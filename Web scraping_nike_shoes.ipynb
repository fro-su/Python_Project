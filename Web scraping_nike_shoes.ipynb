{
 "cells": [
  {
   "cell_type": "code",
   "execution_count": 1,
   "metadata": {},
   "outputs": [
    {
     "ename": "ModuleNotFoundError",
     "evalue": "No module named 'bs4'",
     "output_type": "error",
     "traceback": [
      "\u001b[1;31m---------------------------------------------------------------------------\u001b[0m",
      "\u001b[1;31mModuleNotFoundError\u001b[0m                       Traceback (most recent call last)",
      "\u001b[1;32mc:\\Users\\Firew Ayele\\Desktop\\datanomics\\Untitled-1.ipynb Cell 1\u001b[0m line \u001b[0;36m2\n\u001b[0;32m      <a href='vscode-notebook-cell:/c%3A/Users/Firew%20Ayele/Desktop/datanomics/Untitled-1.ipynb#W0sZmlsZQ%3D%3D?line=0'>1</a>\u001b[0m \u001b[39mimport\u001b[39;00m \u001b[39mrequests\u001b[39;00m\n\u001b[1;32m----> <a href='vscode-notebook-cell:/c%3A/Users/Firew%20Ayele/Desktop/datanomics/Untitled-1.ipynb#W0sZmlsZQ%3D%3D?line=1'>2</a>\u001b[0m \u001b[39mfrom\u001b[39;00m \u001b[39mbs4\u001b[39;00m \u001b[39mimport\u001b[39;00m BeautifulSoup\n\u001b[0;32m      <a href='vscode-notebook-cell:/c%3A/Users/Firew%20Ayele/Desktop/datanomics/Untitled-1.ipynb#W0sZmlsZQ%3D%3D?line=2'>3</a>\u001b[0m \u001b[39mfrom\u001b[39;00m \u001b[39munidecode\u001b[39;00m \u001b[39mimport\u001b[39;00m unidecode\n\u001b[0;32m      <a href='vscode-notebook-cell:/c%3A/Users/Firew%20Ayele/Desktop/datanomics/Untitled-1.ipynb#W0sZmlsZQ%3D%3D?line=3'>4</a>\u001b[0m \u001b[39mimport\u001b[39;00m \u001b[39mbase64\u001b[39;00m\n",
      "\u001b[1;31mModuleNotFoundError\u001b[0m: No module named 'bs4'"
     ]
    }
   ],
   "source": [
    "import requests\n",
    "from bs4 import BeautifulSoup\n",
    "from unidecode import unidecode\n",
    "import base64\n",
    "\n",
    "# Scraping data Boys Running Shoes\n",
    "url = 'https://www.nike.com/id/w/boys-running-shoes-37v7jz4413nzy7ok'\n",
    "html_doc = requests.get(url).text\n",
    "soup = BeautifulSoup(html_doc, 'html.parser')\n",
    "boysjordan = soup.find('div', 'product-grid__items css-hvew4t')\n",
    "\n",
    "for product in boysjordan.find_all('div', 'product-card'):\n",
    "    title = product.find('div', 'product-card__title').text.strip()\n",
    "    kindcolour = product.find('button', 'product-card__colorway-btn').find('div').text.strip()\n",
    "    fixprice = unidecode(product.find('div', 'product-card__price').find('div').find('div').text.strip())\n",
    "    link = product.find('div', 'product-card__body').find('a')['href']\n",
    "    link_image = product.find('div', 'wall-image-loader').find('img')['src']\n",
    "\n",
    "    print(f'Product Name:  {title}\\n')\n",
    "    print(f'Available Colors: {kindcolour}\\n')\n",
    "    print(f'Prodcut Price: {fixprice}\\n')\n",
    "    print(f'More details: {link}\\n')\n",
    "    print(f'link_image: {link_image}\\n')\n",
    "    print('------------------------------')"
   ]
  }
 ],
 "metadata": {
  "kernelspec": {
   "display_name": "Python 3",
   "language": "python",
   "name": "python3"
  },
  "language_info": {
   "codemirror_mode": {
    "name": "ipython",
    "version": 3
   },
   "file_extension": ".py",
   "mimetype": "text/x-python",
   "name": "python",
   "nbconvert_exporter": "python",
   "pygments_lexer": "ipython3",
   "version": "3.10.6"
  },
  "orig_nbformat": 4
 },
 "nbformat": 4,
 "nbformat_minor": 2
}
